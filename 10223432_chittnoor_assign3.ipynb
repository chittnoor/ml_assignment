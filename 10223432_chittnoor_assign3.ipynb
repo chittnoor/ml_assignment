{
  "nbformat": 4,
  "nbformat_minor": 0,
  "metadata": {
    "colab": {
      "provenance": []
    },
    "kernelspec": {
      "name": "python3",
      "display_name": "Python 3"
    },
    "language_info": {
      "name": "python"
    }
  },
  "cells": [
    {
      "cell_type": "code",
      "execution_count": null,
      "metadata": {
        "colab": {
          "base_uri": "https://localhost:8080/"
        },
        "id": "mdFhDz3kxd5U",
        "outputId": "2422a374-b891-4214-ebb2-fb8020924def"
      },
      "outputs": [
        {
          "output_type": "stream",
          "name": "stderr",
          "text": [
            "/usr/local/lib/python3.10/dist-packages/sklearn/metrics/_regression.py:1220: RuntimeWarning: overflow encountered in square\n",
            "  numerator = xp.sum(weight * (y_true - y_pred) ** 2, axis=0)\n",
            "/usr/local/lib/python3.10/dist-packages/sklearn/metrics/_regression.py:1220: RuntimeWarning: overflow encountered in square\n",
            "  numerator = xp.sum(weight * (y_true - y_pred) ** 2, axis=0)\n"
          ]
        },
        {
          "output_type": "stream",
          "name": "stdout",
          "text": [
            "Initial R^2 score: 0.7926620169101526\n",
            "PCA R^2 score: 0.7926620169101533\n",
            "PCA improved the model performance.\n"
          ]
        }
      ],
      "source": [
        "import pandas as pd\n",
        "from sklearn.preprocessing import MinMaxScaler, StandardScaler\n",
        "from sklearn.metrics.pairwise import cosine_similarity\n",
        "from scipy.spatial.distance import jaccard\n",
        "from google.colab import files\n",
        "\n",
        "uploaded_files = files.upload()\n",
        "data = pd.read_csv(next(iter(uploaded_files)))\n",
        "\n",
        "columns = [\n",
        "    \"Education\", \"Occupation\", \"Gender\", \"MaritalStatus\",\n",
        "    \"HomeOwnerFlag\", \"NumberCarsOwned\", \"NumberChildrenAtHome\",\n",
        "    \"TotalChildren\", \"YearlyIncome\"\n",
        "]\n",
        "data_subset = data[columns]\n",
        "\n",
        "missing_values = data_subset.isnull().sum()\n",
        "print(missing_values)\n",
        "\n",
        "scaler = MinMaxScaler()\n",
        "data_subset['Income_Normalized'] = scaler.fit_transform(data_subset[['YearlyIncome']])\n",
        "\n",
        "data_subset['Income_Category'] = pd.cut(\n",
        "    data_subset['YearlyIncome'], bins=5, labels=['Very Low', 'Low', 'Medium', 'High', 'Very High']\n",
        ")\n",
        "\n",
        "standard_scaler = StandardScaler()\n",
        "data_subset['Income_Standardized'] = standard_scaler.fit_transform(data_subset[['YearlyIncome']])\n",
        "\n",
        "encoded_data = pd.get_dummies(\n",
        "    data_subset.drop(columns=['Income_Category']),\n",
        "    columns=[\"Education\", \"Occupation\", \"Gender\", \"MaritalStatus\"]\n",
        ")\n",
        "\n",
        "vector_a = encoded_data.iloc[0]\n",
        "vector_b = encoded_data.iloc[1]\n",
        "cosine_sim = cosine_similarity([vector_a], [vector_b])[0][0]\n",
        "jaccard_sim = 1 - jaccard(vector_a.astype(bool), vector_b.astype(bool))\n",
        "matching_coefficient = (vector_a == vector_b).mean()\n",
        "\n",
        "print(f\"Cosine Similarity: {cosine_sim}\")\n",
        "print(f\"Jaccard Similarity: {jaccard_sim}\")\n",
        "print(f\"Simple Matching Coefficient: {matching_coefficient}\")\n",
        "\n",
        "correlation_value = data_subset['NumberCarsOwned'].corr(data_subset['YearlyIncome'])\n",
        "print(f\"Correlation between NumberCarsOwned and YearlyIncome: {correlation_value}\")\n",
        "\n",
        "print(data_subset.head())\n"
      ]
    }
  ]
}